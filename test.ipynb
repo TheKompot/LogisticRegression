{
 "cells": [
  {
   "cell_type": "code",
   "execution_count": 102,
   "metadata": {},
   "outputs": [],
   "source": [
    "import numpy as np\n",
    "import pandas as pd\n",
    "from scipy.optimize import fmin"
   ]
  },
  {
   "cell_type": "code",
   "execution_count": 103,
   "metadata": {},
   "outputs": [],
   "source": [
    "%run optimizer.py"
   ]
  },
  {
   "cell_type": "markdown",
   "metadata": {},
   "source": [
    "# Import dat"
   ]
  },
  {
   "cell_type": "code",
   "execution_count": 104,
   "metadata": {},
   "outputs": [],
   "source": [
    "df = pd.read_csv('data/heart.csv',delimiter=';')\n",
    "df['oldpeak'] = df['oldpeak'].str.replace(',','.')\n",
    "df['bias'] = 1"
   ]
  },
  {
   "cell_type": "code",
   "execution_count": 105,
   "metadata": {},
   "outputs": [
    {
     "data": {
      "text/html": [
       "<div>\n",
       "<style scoped>\n",
       "    .dataframe tbody tr th:only-of-type {\n",
       "        vertical-align: middle;\n",
       "    }\n",
       "\n",
       "    .dataframe tbody tr th {\n",
       "        vertical-align: top;\n",
       "    }\n",
       "\n",
       "    .dataframe thead th {\n",
       "        text-align: right;\n",
       "    }\n",
       "</style>\n",
       "<table border=\"1\" class=\"dataframe\">\n",
       "  <thead>\n",
       "    <tr style=\"text-align: right;\">\n",
       "      <th></th>\n",
       "      <th>age</th>\n",
       "      <th>trestbps</th>\n",
       "      <th>chol</th>\n",
       "      <th>thalach</th>\n",
       "      <th>oldpeak</th>\n",
       "      <th>target,</th>\n",
       "      <th>bias</th>\n",
       "    </tr>\n",
       "  </thead>\n",
       "  <tbody>\n",
       "    <tr>\n",
       "      <th>0</th>\n",
       "      <td>63</td>\n",
       "      <td>145</td>\n",
       "      <td>233</td>\n",
       "      <td>150</td>\n",
       "      <td>2.1</td>\n",
       "      <td>1</td>\n",
       "      <td>1</td>\n",
       "    </tr>\n",
       "    <tr>\n",
       "      <th>1</th>\n",
       "      <td>37</td>\n",
       "      <td>130</td>\n",
       "      <td>250</td>\n",
       "      <td>187</td>\n",
       "      <td>3.5</td>\n",
       "      <td>1</td>\n",
       "      <td>1</td>\n",
       "    </tr>\n",
       "    <tr>\n",
       "      <th>2</th>\n",
       "      <td>41</td>\n",
       "      <td>130</td>\n",
       "      <td>204</td>\n",
       "      <td>172</td>\n",
       "      <td>1.4</td>\n",
       "      <td>1</td>\n",
       "      <td>1</td>\n",
       "    </tr>\n",
       "    <tr>\n",
       "      <th>3</th>\n",
       "      <td>56</td>\n",
       "      <td>120</td>\n",
       "      <td>236</td>\n",
       "      <td>178</td>\n",
       "      <td>0.8</td>\n",
       "      <td>1</td>\n",
       "      <td>1</td>\n",
       "    </tr>\n",
       "    <tr>\n",
       "      <th>4</th>\n",
       "      <td>57</td>\n",
       "      <td>120</td>\n",
       "      <td>354</td>\n",
       "      <td>163</td>\n",
       "      <td>0.6</td>\n",
       "      <td>1</td>\n",
       "      <td>1</td>\n",
       "    </tr>\n",
       "  </tbody>\n",
       "</table>\n",
       "</div>"
      ],
      "text/plain": [
       "   age  trestbps  chol  thalach oldpeak  target,  bias\n",
       "0   63       145   233      150     2.1        1     1\n",
       "1   37       130   250      187     3.5        1     1\n",
       "2   41       130   204      172     1.4        1     1\n",
       "3   56       120   236      178     0.8        1     1\n",
       "4   57       120   354      163     0.6        1     1"
      ]
     },
     "execution_count": 105,
     "metadata": {},
     "output_type": "execute_result"
    }
   ],
   "source": [
    "df.head()"
   ]
  },
  {
   "cell_type": "code",
   "execution_count": 106,
   "metadata": {},
   "outputs": [],
   "source": [
    "v = df['target,'].values.astype('float')\n",
    "df.drop(['target,'],axis=1,inplace=True)\n",
    "u = df.values.astype('float')"
   ]
  },
  {
   "cell_type": "markdown",
   "metadata": {},
   "source": [
    "# Generating J(x)"
   ]
  },
  {
   "cell_type": "code",
   "execution_count": 107,
   "metadata": {},
   "outputs": [],
   "source": [
    "def J(x):\n",
    "    return np.sum([ (1-v[i])*x@u[i,:] + np.log(1+np.exp(- x@u[i,:])) for i in range(v.shape[0]) ])\n",
    "\n",
    "def dJ(x):\n",
    "    return np.sum(np.array([ (1-v[i])*u[i,:] -(u[i,:]/(np.exp(x@u[i,:])+1)) for i in range(v.shape[0]) ]),axis=0)"
   ]
  },
  {
   "cell_type": "code",
   "execution_count": 108,
   "metadata": {},
   "outputs": [],
   "source": [
    "x0 = np.zeros(6)\n",
    "x0[0] = -2.28"
   ]
  },
  {
   "cell_type": "code",
   "execution_count": 109,
   "metadata": {},
   "outputs": [
    {
     "name": "stderr",
     "output_type": "stream",
     "text": [
      "<ipython-input-107-97fc82834ffa>:2: RuntimeWarning: overflow encountered in exp\n",
      "  return np.sum([ (1-v[i])*x@u[i,:] + np.log(1+np.exp(- x@u[i,:])) for i in range(v.shape[0]) ])\n"
     ]
    },
    {
     "data": {
      "text/plain": [
       "array([-8.27932779e-03, -1.59163073e-02, -3.92257647e-04,  3.82257616e-02,\n",
       "       -5.91209418e-01, -2.28912802e+00])"
      ]
     },
     "execution_count": 109,
     "metadata": {},
     "output_type": "execute_result"
    }
   ],
   "source": [
    "optimize(x0=x0, f=J, df=dJ, method='BFGS', optimal_step=False)"
   ]
  },
  {
   "cell_type": "code",
   "execution_count": 111,
   "metadata": {},
   "outputs": [
    {
     "name": "stderr",
     "output_type": "stream",
     "text": [
      "<ipython-input-107-97fc82834ffa>:2: RuntimeWarning: overflow encountered in exp\n",
      "  return np.sum([ (1-v[i])*x@u[i,:] + np.log(1+np.exp(- x@u[i,:])) for i in range(v.shape[0]) ])\n"
     ]
    },
    {
     "data": {
      "text/plain": [
       "array([-8.27935300e-03, -1.59163190e-02, -3.92260304e-04,  3.82257475e-02,\n",
       "       -5.91209323e-01, -2.28912240e+00])"
      ]
     },
     "execution_count": 111,
     "metadata": {},
     "output_type": "execute_result"
    }
   ],
   "source": [
    "optimize(x0=x0, f=J, df=dJ, method='DFP', optimal_step=False)"
   ]
  },
  {
   "cell_type": "code",
   "execution_count": 112,
   "metadata": {},
   "outputs": [
    {
     "name": "stderr",
     "output_type": "stream",
     "text": [
      "<ipython-input-107-97fc82834ffa>:5: RuntimeWarning: overflow encountered in exp\n",
      "  return np.sum(np.array([ (1-v[i])*u[i,:] -(u[i,:]/(np.exp(x@u[i,:])+1)) for i in range(v.shape[0]) ]),axis=0)\n"
     ]
    },
    {
     "data": {
      "text/plain": [
       "array([-8.27936384e-03, -1.59163024e-02, -3.92260278e-04,  3.82257501e-02,\n",
       "       -5.91209196e-01, -2.28912450e+00])"
      ]
     },
     "execution_count": 112,
     "metadata": {},
     "output_type": "execute_result"
    }
   ],
   "source": [
    "optimize(x0=x0, f=J, df=dJ, method='BFGS', optimal_step=True)"
   ]
  },
  {
   "cell_type": "code",
   "execution_count": 113,
   "metadata": {},
   "outputs": [
    {
     "name": "stderr",
     "output_type": "stream",
     "text": [
      "<ipython-input-107-97fc82834ffa>:5: RuntimeWarning: overflow encountered in exp\n",
      "  return np.sum(np.array([ (1-v[i])*u[i,:] -(u[i,:]/(np.exp(x@u[i,:])+1)) for i in range(v.shape[0]) ]),axis=0)\n"
     ]
    },
    {
     "data": {
      "text/plain": [
       "array([-8.27935464e-03, -1.59163174e-02, -3.92259871e-04,  3.82257468e-02,\n",
       "       -5.91209353e-01, -2.28912248e+00])"
      ]
     },
     "execution_count": 113,
     "metadata": {},
     "output_type": "execute_result"
    }
   ],
   "source": [
    "optimize(x0=x0, f=J, df=dJ, method='DFP', optimal_step=True)"
   ]
  },
  {
   "cell_type": "code",
   "execution_count": 114,
   "metadata": {},
   "outputs": [
    {
     "name": "stdout",
     "output_type": "stream",
     "text": [
      "Optimization terminated successfully.\n",
      "         Current function value: 153.453454\n",
      "         Iterations: 218\n",
      "         Function evaluations: 372\n"
     ]
    },
    {
     "data": {
      "text/plain": [
       "array([-0.07254204,  0.00668163,  0.00020864,  0.0220571 , -0.02318095,\n",
       "       -0.02239947])"
      ]
     },
     "execution_count": 114,
     "metadata": {},
     "output_type": "execute_result"
    }
   ],
   "source": [
    "fmin(J,x0)"
   ]
  },
  {
   "cell_type": "code",
   "execution_count": 116,
   "metadata": {},
   "outputs": [
    {
     "data": {
      "text/plain": [
       "153.45345070550587"
      ]
     },
     "execution_count": 116,
     "metadata": {},
     "output_type": "execute_result"
    }
   ],
   "source": [
    "J(np.array([-0.07254204,  0.00668163,  0.00020864,  0.0220571 , -0.02318095,\n",
    "       -0.02239947]))"
   ]
  },
  {
   "cell_type": "code",
   "execution_count": 117,
   "metadata": {},
   "outputs": [
    {
     "data": {
      "text/plain": [
       "133.96188501425559"
      ]
     },
     "execution_count": 117,
     "metadata": {},
     "output_type": "execute_result"
    }
   ],
   "source": [
    "J(np.array([-8.27935464e-03, -1.59163174e-02, -3.92259871e-04,  3.82257468e-02,\n",
    "       -5.91209353e-01, -2.28912248e+00]))"
   ]
  },
  {
   "cell_type": "code",
   "execution_count": null,
   "metadata": {},
   "outputs": [],
   "source": []
  }
 ],
 "metadata": {
  "interpreter": {
   "hash": "d153afc154f55f63edb29ab3b8e0ef98f4223ee04c2a602f3a0cf8c8ffe67f14"
  },
  "kernelspec": {
   "display_name": "Python 3.9.1 64-bit",
   "language": "python",
   "name": "python3"
  },
  "language_info": {
   "codemirror_mode": {
    "name": "ipython",
    "version": 3
   },
   "file_extension": ".py",
   "mimetype": "text/x-python",
   "name": "python",
   "nbconvert_exporter": "python",
   "pygments_lexer": "ipython3",
   "version": "3.9.1"
  },
  "orig_nbformat": 4
 },
 "nbformat": 4,
 "nbformat_minor": 2
}
